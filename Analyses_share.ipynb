{
 "cells": [
  {
   "cell_type": "code",
   "execution_count": null,
   "id": "057da072-7dfd-4673-bf50-5773f1795b52",
   "metadata": {},
   "outputs": [],
   "source": []
  },
  {
   "cell_type": "code",
   "execution_count": null,
   "id": "a22932ea-04b0-4dfc-80ea-81d26bc8a50b",
   "metadata": {},
   "outputs": [],
   "source": [
    "#### RUNNING ACE, PF, BMI ANALYSIS"
   ]
  },
  {
   "cell_type": "code",
   "execution_count": null,
   "id": "6830d2bb-6d78-4d82-b5a1-4ec066463470",
   "metadata": {},
   "outputs": [],
   "source": [
    "#Import Data\n",
    "import os\n",
    "import pandas as pd\n",
    "import numpy as np \n",
    "#!pip install nbformat\n",
    "from sklearn.preprocessing import StandardScaler\n",
    "#take out max, just do mean for protect score\n",
    "import seaborn as sns\n",
    "import matplotlib.pyplot as plt\n",
    "from pymer4.models import Lmer\n"
   ]
  },
  {
   "cell_type": "code",
   "execution_count": null,
   "id": "32781487-4712-4f30-9305-2426b6683cb0",
   "metadata": {},
   "outputs": [],
   "source": [
    "#*****KEYy*****\n",
    "## sex - male (1) female (2) intersex (3)\n",
    "## PDS - scores \n",
    "## puberty - 1 (yes) 0 (no) or 2 NA or 3 intersex\n",
    "## BMI - (weight-lb x 703) / (height-in x height)\n",
    "## ACEs 1 = Physical Abuse; 2 - Sexual Abuse; 3 - Neglect; 4 - Emotional; 5 - Family drug/substance; 6 - Family mental; 7- DV;\\\n",
    "    #8-family structure; 9- death; 10 - neighborhood safety; 11- incarceration; 12 - bullying/discrim; 13- housing/food insecurity\n",
    "        ## 1 = any positive, 0 = negative, 2 = dont have all results (but changed this to zero)\n",
    "## race - 0 - NA; 1 - white; 2 - black; 3 - AIAN; 4 - NHPI; 5- asian; 6 - mixed\n",
    "## ethnicity 1 - hispanic; 2 - non hispanic; 0 - na/refuse to anser \n",
    "##protect protect\t"
   ]
  },
  {
   "cell_type": "code",
   "execution_count": null,
   "id": "d3b28984-7fd1-4395-b1ab-902cd91f1919",
   "metadata": {
    "scrolled": true
   },
   "outputs": [],
   "source": [
    "%run #data"
   ]
  },
  {
   "cell_type": "markdown",
   "id": "aea69020-2874-4e96-9e90-b7990d55dc30",
   "metadata": {},
   "source": [
    "# merge demographic and ACE dataframes"
   ]
  },
  {
   "cell_type": "code",
   "execution_count": null,
   "id": "085826b4-788d-4515-bc1b-23c3d97150a5",
   "metadata": {},
   "outputs": [],
   "source": [
    "df = Demo_df.merge(ACE_df, on=[\"src_subject_id\", \"eventname\"], how=\"outer\")"
   ]
  },
  {
   "cell_type": "code",
   "execution_count": null,
   "id": "93f8ec1e-f2d5-43db-a0d7-0c24c5f7afaf",
   "metadata": {},
   "outputs": [],
   "source": [
    "# Filter the DataFrame for 'baseline_year_1_arm_1' event - creates a dictionary \n",
    "tmp = df[df['eventname'] == 'baseline_year_1_arm_1']\n",
    "\n",
    "# Create a dictionary mapping 'src_subject_id' to 'demo_sex_v2' \n",
    "subj_list = dict(zip(tmp['src_subject_id'], tmp['demo_ethn_v2']))\n",
    "\n",
    "# Map the 'demo_sex_v2' values to the 'sex' column for the entire DataFrame based on 'src_subject_id'\n",
    "df['demo_ethn_v2'] = df['src_subject_id'].map(subj_list)\n"
   ]
  },
  {
   "cell_type": "code",
   "execution_count": null,
   "id": "627b3a7a-e8d8-44e9-9cd4-bcb0eeff5947",
   "metadata": {},
   "outputs": [],
   "source": [
    "df = df_copy.copy()\n",
    "\n",
    "# Step 1: Create a mapping of src_subject_id to rel_family_id for baseline rows\n",
    "baseline_mapping = df[df['eventname'] == 'baseline_year_1_arm_1'].set_index('src_subject_id')['rel_family_id']\n",
    "\n",
    "# Step 2: Map the rel_family_id to all rows using the src_subject_id\n",
    "df['rel_family_id'] = df['src_subject_id'].map(baseline_mapping)"
   ]
  },
  {
   "cell_type": "code",
   "execution_count": null,
   "id": "6c6d11fb-fbce-4b26-aaf2-2521c858977a",
   "metadata": {},
   "outputs": [],
   "source": [
    "flags = ['height_flagged' , 'height_decrease_event' , 'low_weight_1' , 'low_weight_2', 'low_weight_3' , \\\n",
    "         'weight_loss_flagged' , 'remote' , 'date_flagged' , 'med_flag']"
   ]
  },
  {
   "cell_type": "code",
   "execution_count": null,
   "id": "61852db1-5e1b-4549-afe4-f768763d6e10",
   "metadata": {},
   "outputs": [],
   "source": [
    "df.eventname.value_counts()"
   ]
  },
  {
   "cell_type": "code",
   "execution_count": null,
   "id": "36e8cb6f-5ddf-4155-8264-45c0bb537b10",
   "metadata": {},
   "outputs": [],
   "source": [
    "df = df[df['height_flagged'] == False]\n",
    "# df = df[df['height_flagged'] != True]\n",
    "df.eventname.value_counts()\n"
   ]
  },
  {
   "cell_type": "code",
   "execution_count": null,
   "id": "14a5b8cd-0cb7-4a46-ba84-6d1402be64df",
   "metadata": {},
   "outputs": [],
   "source": [
    "# Filter the DataFrame based on the conditions\n",
    "df = df[(df['height_decrease_event'].isnull()) | (df['eventname'] == '4_year_follow_up_y_arm_1')]\n",
    "##can keep those with innacuracy year 4 only because its either innacurate year 3 or year 4 \n",
    "# Verify the remaining event counts\n",
    "print(df['eventname'].value_counts())\n"
   ]
  },
  {
   "cell_type": "code",
   "execution_count": null,
   "id": "83fbd12a-4ca7-43aa-85ca-8835e9b66897",
   "metadata": {},
   "outputs": [],
   "source": [
    "df = df[df['weight_loss_flagged'] == False]\n",
    "\n",
    "\n",
    "df = df[df['low_weight_1'] == False]\n",
    "df = df[df['low_weight_2'] == False]\n",
    "df = df[df['low_weight_3'] == False]\n",
    "print(df.eventname.value_counts())"
   ]
  },
  {
   "cell_type": "code",
   "execution_count": null,
   "id": "b8374980-e992-4c6f-bc06-5de3010d9d04",
   "metadata": {},
   "outputs": [],
   "source": [
    "\n",
    "df = df[df['remote'] == 1]\n",
    "print(df.eventname.value_counts())\n",
    "df = df[df['med_flag'] == False]\n",
    "print(df.eventname.value_counts())\n",
    "df = df[df['date_flagged'] == False]\n",
    "print(df.eventname.value_counts())"
   ]
  },
  {
   "cell_type": "code",
   "execution_count": null,
   "id": "5004c892-8f58-41de-9a48-6203c771f0d2",
   "metadata": {},
   "outputs": [],
   "source": [
    "bmi_min = df['BMI_v'].min()\n",
    "bmi_max = df['BMI_v'].max()\n",
    "print(f'The range of BMI is from {bmi_min} to {bmi_max}') "
   ]
  },
  {
   "cell_type": "code",
   "execution_count": null,
   "id": "564ff4be-701d-4025-afb2-1a801ee10a1b",
   "metadata": {},
   "outputs": [],
   "source": [
    "# Calculate the mean and standard deviation of BMI\n",
    "mean_bmi = df['BMI_v'].mean()\n",
    "std_bmi = df['BMI_v'].std()\n"
   ]
  },
  {
   "cell_type": "code",
   "execution_count": null,
   "id": "50f5975d-2129-4538-9d87-59ea0c9aecda",
   "metadata": {},
   "outputs": [],
   "source": [
    "# Filter the DataFrame for BMI > 50 or BMI < 10\n",
    "bmi_outliers = df[(df['BMI_v'] > 45) | (df['BMI_v'] < 10)]\n",
    "\n",
    "# Display the rows with these BMI outliers\n",
    "print(bmi_outliers[['src_subject_id', 'BMI_v', 'eventname' , 'height', 'weight' , 'sex']])\n",
    "\n",
    "# display only the unique subject IDs\n",
    "unique_outlier_ids = bmi_outliers['src_subject_id'].unique()\n",
    "print(\"\\nUnique subject IDs with BMI > 45 or BMI < 10:\")\n",
    "print(unique_outlier_ids)"
   ]
  },
  {
   "cell_type": "code",
   "execution_count": null,
   "id": "93358707-d002-4fac-8b94-adf4fcd6b085",
   "metadata": {},
   "outputs": [],
   "source": [
    "# Lists of subjects for each event year\n",
    "\n",
    "# Create a flag for abnormal BMI\n",
    "df['abnormal_bmi_flag'] = np.where(\n",
    "    (df['src_subject_id'].isin(baseline_subjects)) & (df['eventname'] == 'baseline_year_1_arm_1'),\n",
    "    1,  # Flag for abnormal BMI (1 indicates to remove)\n",
    "    np.where(\n",
    "        (df['src_subject_id'].isin(year1_subjects)) & (df['eventname'] == '1_year_follow_up_y_arm_1'),\n",
    "        1,  # Flag for abnormal BMI (1 indicates to remove)\n",
    "        np.where(\n",
    "            (df['src_subject_id'].isin(year2_subjects)) & (df['eventname'] == '2_year_follow_up_y_arm_1'),\n",
    "            1,  # Flag for abnormal BMI (1 indicates to remove)\n",
    "            0  # No flag (0 indicates valid data)\n",
    "        )\n",
    "    )\n",
    ")\n",
    "\n",
    "# Count the rows where the abnormal_bmi_flag is set to 1 (indicating they are flagged for removal)\n",
    "rows_to_remove = df[df['abnormal_bmi_flag'] == 1]\n",
    "\n",
    "# Print the number of rows that will be removed\n",
    "print(f'Number of rows to be removed: {len(rows_to_remove)}')\n",
    "\n",
    "# display the rows that are flagged for removal (if you want to review them before removal)\n",
    "print(rows_to_remove[['src_subject_id', 'eventname', 'height', 'weight', 'BMI_v', 'abnormal_bmi_flag']])\n"
   ]
  },
  {
   "cell_type": "code",
   "execution_count": null,
   "id": "9a5d5146-43fb-40ac-b9b1-59dfc4232ce6",
   "metadata": {},
   "outputs": [],
   "source": [
    "# Remove rows where the abnormal BMI flag is set to 1\n",
    "df = df[df['abnormal_bmi_flag'] == 0]\n",
    "\n",
    "# Get value counts for the cleaned DataFrame (you can change the column name based on what you need)\n",
    "value_counts = df['src_subject_id'].value_counts()\n",
    "\n",
    "# Print the value counts\n",
    "print(value_counts)\n",
    "\n",
    "event_counts = df['eventname'].value_counts()\n",
    "print(event_counts)\n"
   ]
  },
  {
   "cell_type": "markdown",
   "id": "ba382423-1b3e-46f5-8c82-759236fd2e94",
   "metadata": {},
   "source": [
    "# now that I have QC'ed data, restrict to year 2 because this is where I will be working"
   ]
  },
  {
   "cell_type": "code",
   "execution_count": null,
   "id": "b746db28-559d-4668-b2d7-e51fd393c923",
   "metadata": {},
   "outputs": [],
   "source": [
    "protect_vars2 = ['protect_parent_recent',\n",
    "'protect_friend_recent', 'protect_friend_recent2', \n",
    " 'protect_self_recent' ]\n"
   ]
  },
  {
   "cell_type": "code",
   "execution_count": null,
   "id": "659cb458-dcf3-4687-b035-9e4fed0edb4d",
   "metadata": {},
   "outputs": [],
   "source": [
    "# Step 1: Filter for year1 and year2 data\n",
    "tmp_year1 = df[df['eventname'] == '1_year_follow_up_y_arm_1']\n",
    "tmp_year2 = df[df['eventname'] == '2_year_follow_up_y_arm_1']\n",
    "\n",
    "# Step 2: Create mappings for each variable in protect_vars2 for both year1 and year2\n",
    "for var in protect_vars2:\n",
    "    # Map year2 data\n",
    "    year2_mapping = dict(zip(tmp_year2['src_subject_id'], tmp_year2[var]))\n",
    "    # Map year1 data\n",
    "    year1_mapping = dict(zip(tmp_year1['src_subject_id'], tmp_year1[var]))\n",
    "\n",
    "    # Overwrite the column with year2 data, falling back to year1 data\n",
    "    df[var] = df['src_subject_id'].map(year2_mapping).fillna(df['src_subject_id'].map(year1_mapping))\n",
    "\n",
    "# Step 3: Display results\n",
    "print(df[['src_subject_id', 'eventname'] + protect_vars2].head(20))\n"
   ]
  },
  {
   "cell_type": "code",
   "execution_count": null,
   "id": "2fc7edc0-c577-4701-b10b-a08f14cc3a64",
   "metadata": {},
   "outputs": [],
   "source": [
    "df = df[df['eventname'] == '2_year_follow_up_y_arm_1' ]\n",
    "\n",
    "df = df[df['BMI_v'].notnull()]"
   ]
  },
  {
   "cell_type": "code",
   "execution_count": null,
   "id": "10afef66-3686-45cc-8a03-015f8a5add4c",
   "metadata": {},
   "outputs": [],
   "source": [
    "df.rename(columns={'BMI_v': 'BMI'}, inplace=True)\n"
   ]
  },
  {
   "cell_type": "code",
   "execution_count": null,
   "id": "2e8613f1-3fac-4d78-a538-66d86b89db68",
   "metadata": {},
   "outputs": [],
   "source": [
    "df.rename(columns={'income_comb_cat': 'income'}, inplace=True)"
   ]
  },
  {
   "cell_type": "code",
   "execution_count": null,
   "id": "996c78ba-b965-4b9e-86f7-7cb842f68443",
   "metadata": {},
   "outputs": [],
   "source": [
    "# Set a seed for reproducibility\n",
    "np.random.seed(42)  # can choose any integer value\n",
    "\n",
    "# Step 1: Shuffle the indices\n",
    "idx = np.random.permutation(np.arange(len(df)))\n",
    "\n",
    "# Step 2: Create a copy of the DataFrame and shuffle it\n",
    "d = df.copy()\n",
    "d = d.set_index(idx).sort_index()\n",
    "\n",
    "# Step 3: Drop duplicates based on 'rel_family_id', keeping the first occurrence\n",
    "d = d.drop_duplicates(subset='rel_family_id', keep='first')\n",
    "\n",
    "# Step 4: Create a list of 'src_subject_id' to keep\n",
    "subj_list = d['src_subject_id'].to_list()\n",
    "\n",
    "# Step 5: Flag records to keep or exclude\n",
    "df['remove_sibs'] = np.where(df['src_subject_id'].isin(subj_list), 'keep', 'exclude')\n",
    "\n",
    "# Step 6: Verify the counts\n",
    "print(df.groupby('eventname')['remove_sibs'].value_counts())"
   ]
  },
  {
   "cell_type": "markdown",
   "id": "14b8d8af-41f9-46ee-9a7e-cb08c69e2e07",
   "metadata": {},
   "source": [
    "## actually remove siblings"
   ]
  },
  {
   "cell_type": "code",
   "execution_count": null,
   "id": "b9a83e67-8634-4186-a109-a741625fc0e4",
   "metadata": {},
   "outputs": [],
   "source": [
    "df = df[df['remove_sibs'] == 'keep']"
   ]
  },
  {
   "cell_type": "code",
   "execution_count": null,
   "id": "cbae349d-1db4-4092-aa4a-9bd645781c76",
   "metadata": {},
   "outputs": [],
   "source": [
    "df.eventname.value_counts()"
   ]
  },
  {
   "cell_type": "code",
   "execution_count": null,
   "id": "bec90d10-06c9-4ab4-ad5b-cbdc3634ca8c",
   "metadata": {},
   "outputs": [],
   "source": [
    "len(df.rel_family_id.unique())"
   ]
  },
  {
   "cell_type": "code",
   "execution_count": null,
   "id": "9e87b268-c90c-4d19-8f8a-6e839b713078",
   "metadata": {},
   "outputs": [],
   "source": [
    "df = df[df['demo_ethn_v2'] <3]"
   ]
  },
  {
   "cell_type": "code",
   "execution_count": null,
   "id": "33643ff2-fe81-4dad-9dab-7327b0d10545",
   "metadata": {},
   "outputs": [],
   "source": [
    "df.eventname.value_counts()"
   ]
  },
  {
   "cell_type": "code",
   "execution_count": null,
   "id": "ccaa123c-f1fb-4cbc-a8c1-23f6561f349b",
   "metadata": {},
   "outputs": [],
   "source": [
    "df = df[df['highest_edu'] >0]"
   ]
  },
  {
   "cell_type": "code",
   "execution_count": null,
   "id": "37cccd2f-c29c-4446-97e9-9bc416132f02",
   "metadata": {},
   "outputs": [],
   "source": [
    "df.eventname.value_counts()"
   ]
  },
  {
   "cell_type": "code",
   "execution_count": null,
   "id": "c2939af7-c86f-4870-b82b-a75de75ca0b3",
   "metadata": {},
   "outputs": [],
   "source": [
    "ace_columns = ['ACE_PA_count', 'ACE_SA_count', 'ACE_N_count', 'ACE_EA_count', 'ACE_D_count', 'ACE_MH_count', \n",
    "             'ACE_DV_count',   'ACE_F_count' , 'ACE_NV_count', 'ACE_J2_count', 'ACE_B_count', 'ACE_SS_count']\n",
    "#'ACE_count'(ACE categories)\n",
    "df['ACE_total'] = df[ace_columns].sum(axis=1)"
   ]
  },
  {
   "cell_type": "code",
   "execution_count": null,
   "id": "6f3b76d0-6156-4f9e-a470-7611d501b9cc",
   "metadata": {},
   "outputs": [],
   "source": [
    "# List of ACE variables to calculate value counts for\n",
    "ace_columns_3 = ['ACE_PA', 'ACE_SA', 'ACE_N', 'ACE_EA', 'ACE_D', 'ACE_MH', \n",
    "                 'ACE_DV', 'ACE_F', 'ACE_NV', 'ACE_J2', 'ACE_B', 'ACE_SS']\n",
    "\n",
    "# Filter the DataFrame for the specific event ('2_year_follow_up_y_arm_1')\n",
    "filtered_df = df[df['eventname'] == '2_year_follow_up_y_arm_1']\n",
    "\n",
    "# Apply a function to count the number of '3's across the specified ACE columns for each subject\n",
    "filtered_df['total_3s'] = filtered_df[ace_columns_3].apply(lambda row: (row == 3).sum(), axis=1)\n",
    "\n",
    "# Find how many unique subject IDs have more than 1 '3' across all ACE columns for this specific event\n",
    "subjects_with_more_than_1_3 = filtered_df[filtered_df['total_3s'] > 1]['src_subject_id'].unique()\n",
    "\n",
    "# Print the results\n",
    "print(f\"Number of unique subject IDs with more than 1 '3' across all ACE columns (for 2_year_follow_up_y_arm_1 event): {len(subjects_with_more_than_1_3)}\")\n",
    "print(f\"Subject IDs with more than 1 '3' across all ACE columns (for 2_year_follow_up_y_arm_1 event): {subjects_with_more_than_1_3}\")\n"
   ]
  },
  {
   "cell_type": "code",
   "execution_count": null,
   "id": "d75e737a-5d9c-40c4-b2ae-054a7653bc7e",
   "metadata": {},
   "outputs": [],
   "source": [
    "##REMOVE THOSE IN ACE_total MISSING MORE THAN 1 answer \n",
    "# List of unique subject IDs with more than 1 '3' in the ACE columns\n",
    "subjects_with_more_than_1_3 = filtered_df[filtered_df['total_3s'] > 1]['src_subject_id'].unique()\n",
    "\n",
    "# Remove the rows where 'src_subject_id' is in the list of subjects with more than 1 '3'\n",
    "df= df[~df['src_subject_id'].isin(subjects_with_more_than_1_3)]\n",
    "\n",
    "# Print the shape of the new DataFrame to confirm the number of rows removed\n",
    "print(f\"Original DataFrame shape: {df.shape}\")\n",
    "print(f\"Cleaned DataFrame shape: {df.shape}\")\n"
   ]
  },
  {
   "cell_type": "code",
   "execution_count": null,
   "id": "c6fa3652-b328-4396-8cd6-00495b87c91f",
   "metadata": {},
   "outputs": [],
   "source": [
    "# make a simple df\n",
    "\n",
    "data_df = df[['src_subject_id', 'eventname', 'BMI', 'ACE_total', 'sex', 'interview_age', 'site_id_l',\n",
    "              'Puberty_PDS', 'highest_edu', 'ACE_sum',  'race', 'income' ,\n",
    "               'demo_ethn_v2', 'ACE_PA_sum_count', \n",
    "              'ACE_SA_sum_count', 'ACE_N_sum_count', 'ACE_EA_sum_count', 'ACE_D_sum_count', \n",
    "              'ACE_MH_sum_count', 'ACE_DV_sum_count', 'ACE_F_sum_count', 'ACE_NV_sum_count', \n",
    "              'ACE_J2_sum_count', 'ACE_B_sum_count', 'ACE_SS_sum_count',\n",
    "              'ACE_PA_count', 'ACE_SA_count', 'ACE_N_count', 'ACE_EA_count', 'ACE_D_count', \n",
    "              'ACE_MH_count', 'ACE_DV_count',  'ACE_F_count' ,'ACE_NV_count', \n",
    "              'ACE_J2_count', 'ACE_B_count', 'ACE_SS_count', 'protect_parent_y2' , 'protect_friend_y2' ,'protect_self_y2','bmiz','bmipct','weight_status']]\n",
    "#'ACE_FD_count', 'ACE_FD_sum_count',\n"
   ]
  },
  {
   "cell_type": "markdown",
   "id": "4b2c1bd7-97cc-44a2-8893-d663fdde113c",
   "metadata": {},
   "source": [
    "## standardize the continuous data"
   ]
  },
  {
   "cell_type": "code",
   "execution_count": null,
   "id": "5cea9adf-871d-480e-b368-81094fef59ba",
   "metadata": {},
   "outputs": [],
   "source": [
    "# List of columns to standardize\n",
    "columns_to_standardize = ['protect_mean_y2','protect_parent_y2' , 'protect_self_y2' , 'protect_friend_y2']\n",
    "\n",
    "# Initialize the scaler\n",
    "scaler = StandardScaler()\n",
    "\n",
    "# Fit and transform the specified columns, replacing them with their standardized values\n",
    "data_df[columns_to_standardize] = scaler.fit_transform(data_df[columns_to_standardize])\n",
    "#tmp1 is the first one to run with just standardiz ace_tota"
   ]
  },
  {
   "cell_type": "code",
   "execution_count": null,
   "id": "59154af7-183c-475a-9e32-a926fd067549",
   "metadata": {},
   "outputs": [],
   "source": [
    "####PROTECT MEAN\n",
    "\n",
    "# List of columns to calculate the average\n",
    "columns_to_avg = ['protect_self_y2', 'protect_friend_y2', 'protect_parent_y2']\n",
    "\n",
    "# Create a new column 'average_protection' with the average of the specified columns\n",
    "data_df['protect_mean_y2'] = data_df[columns_to_avg].mean(axis=1)"
   ]
  },
  {
   "cell_type": "code",
   "execution_count": null,
   "id": "fa4dc487-5a77-48da-b8f1-a88b475cd5c7",
   "metadata": {},
   "outputs": [],
   "source": [
    "# List of columns to standardize\n",
    "columns_to_standardize = ['ACE_total', 'interview_age','Puberty_PDS','protect_mean_y2','protect_parent_y2' , 'protect_self_y2' , 'protect_friend_y2' ]\n",
    "\n",
    "# Initialize the scaler\n",
    "scaler = StandardScaler()\n",
    "\n",
    "# Fit and transform the specified columns, replacing them with their standardized values\n",
    "data_df[columns_to_standardize] = scaler.fit_transform(data_df[columns_to_standardize])\n",
    "#tmp1 is the first one to run with just standardiz ace_tota"
   ]
  },
  {
   "cell_type": "markdown",
   "id": "c7fd5280-e99c-4b18-a879-e49b6014daed",
   "metadata": {},
   "source": [
    "## RUN ANALYSES: BMI*ACE"
   ]
  },
  {
   "cell_type": "code",
   "execution_count": null,
   "id": "f031ecdb-5e09-4f13-ae2b-f33ef10986aa",
   "metadata": {},
   "outputs": [],
   "source": [
    "##BMI~ACE\n",
    "for v in protect_vars:\n",
    "    formula = 'BMI ~ ACE_total + sex + interview_age + Puberty_PDS + highest_edu + (1|site_id_l)'\n",
    "    \n",
    "    model = Lmer(formula, data=data_df)\n",
    "    model_fit = model.fit(factors={\n",
    "        'sex': {\"1.0\": -1, \"2.0\": 1},\n",
    "        'highest_edu': {\"5.0\": -1, \"4.0\": 0.25, \"3.0\": 0.25, \"2.0\": 0.25, \"1.0\": 0.25}\n",
    "    })\n",
    "    display(model_fit)"
   ]
  },
  {
   "cell_type": "code",
   "execution_count": null,
   "id": "a3dd4bdb-7c32-4f14-a580-4d17445c83e4",
   "metadata": {},
   "outputs": [],
   "source": [
    "##BMI~ACE~ethnicity\n",
    "for v in protect_vars:\n",
    "    formula = 'BMI ~ ACE_total *demo_ethn_v2 + sex + interview_age + Puberty_PDS + highest_edu + (1|site_id_l)'\n",
    "    \n",
    "    model = Lmer(formula, data=data_df)\n",
    "    model_fit = model.fit(factors={\n",
    "        'sex': {\"1.0\": -1, \"2.0\": 1},\n",
    "        'highest_edu': {\"5.0\": -1, \"4.0\": 0.25, \"3.0\": 0.25, \"2.0\": 0.25, \"1.0\": 0.25}\n",
    "    })\n",
    "    display(model_fit)"
   ]
  },
  {
   "cell_type": "code",
   "execution_count": null,
   "id": "ee51e45a-cfff-485d-98e1-00c1d1774981",
   "metadata": {
    "scrolled": true
   },
   "outputs": [],
   "source": [
    "# Define the unique ethnicities\n",
    "ethnicities = data_df['demo_ethn_v2'].unique()\n",
    "\n",
    "# Loop through each ethnicity and fit the model\n",
    "for ethnicity in ethnicities:\n",
    "    print(f\"Running model for ethnicity: {ethnicity}\")\n",
    "    \n",
    "    formula = f'BMI ~ ACE_total + sex + interview_age + Puberty_PDS + highest_edu + (1|site_id_l)'\n",
    "    \n",
    "    # Fit the model using a condition within the data\n",
    "    model = Lmer(formula, data=data_df[data_df['demo_ethn_v2'] == ethnicity])\n",
    "    \n",
    "    # Fit the model with factors\n",
    "    model_fit = model.fit(factors={\n",
    "        'sex': {\"1.0\": -1, \"2.0\": 1},\n",
    "        'highest_edu': {\"5.0\": -1, \"4.0\": 0.25, \"3.0\": 0.25, \"2.0\": 0.25, \"1.0\": 0.25}\n",
    "    })\n",
    "    \n",
    "    # Display the results\n",
    "    print(f\"Results for ethnicity: {ethnicity}\")\n",
    "    display(model_fit)\n"
   ]
  },
  {
   "cell_type": "markdown",
   "id": "f8d17b0c-48e2-49dc-91de-3d02ae8a8e4a",
   "metadata": {},
   "source": [
    "## PROTECT Factors"
   ]
  },
  {
   "cell_type": "code",
   "execution_count": null,
   "id": "aa4f2654-6d73-44db-a993-949a1431f5ae",
   "metadata": {},
   "outputs": [],
   "source": [
    "#BMI ~ ACE*PF\n",
    "protect_vars = ['protect_self_y2', 'protect_friend_y2' , 'protect_parent_y2', 'protect_mean_y2']\n",
    "\n",
    "for v in protect_vars:\n",
    "    formula = 'BMI ~ ACE_total*' + v + ' + sex + interview_age + Puberty_PDS + highest_edu + (1|site_id_l)'\n",
    "    \n",
    "    model = Lmer(formula, data=data_df)\n",
    "    model_fit = model.fit(factors={\n",
    "        'sex': {\"1.0\": -1, \"2.0\": 1},\n",
    "        'highest_edu': {\"5.0\": -1, \"4.0\": 0.25, \"3.0\": 0.25, \"2.0\": 0.25, \"1.0\": 0.25}\n",
    "    })\n",
    "    display(model_fit)"
   ]
  },
  {
   "cell_type": "code",
   "execution_count": null,
   "id": "3cab4d04-c185-4baf-ae60-25805d052399",
   "metadata": {},
   "outputs": [],
   "source": [
    "#BMI ~ ACE*PF*ethnicity\n",
    "protect_vars = ['protect_self_y2', 'protect_friend_y2' , 'protect_parent_y2','protect_mean_y2']\n",
    "\n",
    "for v in protect_vars:\n",
    "    formula = 'BMI ~ ACE_total*' + v + ' *demo_ethn_v2 + sex + interview_age + Puberty_PDS + highest_edu + (1|site_id_l)'\n",
    "    \n",
    "    model = Lmer(formula, data=data_df)\n",
    "    model_fit = model.fit(factors={\n",
    "        'sex': {\"1.0\": -1, \"2.0\": 1},\n",
    "        'highest_edu': {\"5.0\": -1, \"4.0\": 0.25, \"3.0\": 0.25, \"2.0\": 0.25, \"1.0\": 0.25}\n",
    "    })\n",
    "    display(model_fit)"
   ]
  },
  {
   "cell_type": "code",
   "execution_count": null,
   "id": "f432540d-d29c-48be-bc71-321e0f19a093",
   "metadata": {},
   "outputs": [],
   "source": [
    "# Define the protective variables and unique ethnicities\n",
    "protect_vars = ['protect_self_y2', 'protect_friend_y2' , 'protect_parent_y2','protect_mean_y2']\n",
    "ethnicities = data_df['demo_ethn_v2'].unique()\n",
    "\n",
    "# Loop through each ethnicity and protective variable\n",
    "for ethnicity in ethnicities:\n",
    "    for v in protect_vars:\n",
    "        print(f\"Running model for ethnicity: {ethnicity}, protective variable: {v}\")\n",
    "        \n",
    "        formula = f'BMI ~ ACE_total * {v} + sex + interview_age + Puberty_PDS + highest_edu + (1|site_id_l)'\n",
    "        \n",
    "        # Fit the model for the specific ethnicity\n",
    "        model = Lmer(formula, data=data_df[data_df['demo_ethn_v2'] == ethnicity])\n",
    "        model_fit = model.fit(factors={\n",
    "            'sex': {\"1.0\": -1, \"2.0\": 1},\n",
    "            'highest_edu': {\"5.0\": -1, \"4.0\": 0.25, \"3.0\": 0.25, \"2.0\": 0.25, \"1.0\": 0.25}\n",
    "        })\n",
    "        \n",
    "        # Display the results\n",
    "        print(f\"Results for ethnicity: {ethnicity}, protective variable: {v}\")\n",
    "        display(model_fit)\n"
   ]
  },
  {
   "cell_type": "markdown",
   "id": "2a181b52-3fb4-493f-9ae9-117117b07201",
   "metadata": {},
   "source": [
    "## individual aces"
   ]
  },
  {
   "cell_type": "code",
   "execution_count": null,
   "id": "19bffdba-b6d7-48b8-8ef6-809459cc8719",
   "metadata": {
    "scrolled": true
   },
   "outputs": [],
   "source": [
    "# Define ACE columns and variables of interest\n",
    "ace_columns = ['ACE_PA_count', 'ACE_SA_count', 'ACE_N_count', 'ACE_EA_count', 'ACE_D_count', 'ACE_MH_count', \n",
    "               'ACE_DV_count', 'ACE_F_count','ACE_NV_count', 'ACE_J2_count', 'ACE_B_count', \n",
    "               'ACE_SS_count']\n",
    "#'ACE_FD_count' \n",
    "vars_interest = ['protect_self_y2', 'protect_friend_y2', 'protect_parent_y2', 'protect_mean_y2']\n",
    "\n",
    "# Nested loop to iterate through protective variables and ACE columns\n",
    "for var in vars_interest:\n",
    "    for ace in ace_columns:\n",
    "        # Print the variable and ACE being analyzed for tracking\n",
    "        print(f\"Running model for ACE: {ace}, Protective Factor: {var}\")\n",
    "        \n",
    "        # Define the model\n",
    "        model = Lmer(\n",
    "            f\"BMI ~ {ace} * {var} + interview_age + highest_edu + sex + Puberty_PDS + (1|site_id_l)\", \n",
    "            data=data_df\n",
    "        )\n",
    "        \n",
    "        # Fit the model with factors\n",
    "        model_fit = model.fit(factors={\n",
    "            'sex': {\"1.0\": -1, \"2.0\": 1},\n",
    "            'highest_edu': {\"5.0\": -1, \"4.0\": 0.25, \"3.0\": 0.25, \"2.0\": 0.25, \"1.0\": 0.25}\n",
    "        })\n",
    "        \n",
    "        # Display the fitted model results\n",
    "        display(model_fit)\n"
   ]
  },
  {
   "cell_type": "markdown",
   "id": "97279450-2ab9-40cb-aa61-2011bd8b2653",
   "metadata": {},
   "source": [
    "##ethnicity "
   ]
  },
  {
   "cell_type": "code",
   "execution_count": null,
   "id": "c80e0cc3-1a17-4fc8-8a83-ee8b72225d85",
   "metadata": {
    "scrolled": true
   },
   "outputs": [],
   "source": [
    "# Define ACE columns and variables of interest\n",
    "#ethnicity = 1 hispanic\n",
    "# Nested loop to iterate through protective variables and ACE columns\n",
    "for var in vars_interest:\n",
    "    for ace in ace_columns:\n",
    "        # Filter the data for ethnicity = 1\n",
    "        filtered_data = data_df[data_df['demo_ethn_v2'] == 1]\n",
    "        \n",
    "        # Print the variable and ACE being analyzed for tracking\n",
    "        print(f\"Running model for ACE: {ace}, Protective Factor: {var}, Ethnicity: 1\")\n",
    "        \n",
    "        # Define the model\n",
    "        model = Lmer(\n",
    "            f\"BMI ~ {ace} * {var} + interview_age + highest_edu + sex + Puberty_PDS + (1|site_id_l)\", \n",
    "            data=filtered_data\n",
    "        )\n",
    "        \n",
    "        # Fit the model with factors\n",
    "        model_fit = model.fit(factors={\n",
    "            'sex': {\"1.0\": -1, \"2.0\": 1},\n",
    "            'highest_edu': {\"5.0\": -1, \"4.0\": 0.25, \"3.0\": 0.25, \"2.0\": 0.25, \"1.0\": 0.25}\n",
    "        })\n",
    "        \n",
    "        # Display the fitted model results\n",
    "        display(model_fit)\n"
   ]
  },
  {
   "cell_type": "code",
   "execution_count": null,
   "id": "5e5a3205-a533-4926-a910-0f6a0c258506",
   "metadata": {
    "scrolled": true
   },
   "outputs": [],
   "source": [
    "#non-hispanic\n",
    "for var in vars_interest:\n",
    "    for ace in ace_columns:\n",
    "        filtered_data = data_df[data_df['demo_ethn_v2'] == 2]\n",
    "        \n",
    "        # Print the variable and ACE being analyzed for tracking\n",
    "        print(f\"Running model for ACE: {ace}, Protective Factor: {var}, Ethnicity: 2\")\n",
    "        \n",
    "        # Define the model\n",
    "        model = Lmer(\n",
    "            f\"BMI ~ {ace} * {var} + interview_age + highest_edu + sex + Puberty_PDS + (1|site_id_l)\", \n",
    "            data=filtered_data\n",
    "        )\n",
    "        \n",
    "        # Fit the model with factors\n",
    "        model_fit = model.fit(factors={\n",
    "            'sex': {\"1.0\": -1, \"2.0\": 1},\n",
    "            'highest_edu': {\"5.0\": -1, \"4.0\": 0.25, \"3.0\": 0.25, \"2.0\": 0.25, \"1.0\": 0.25}\n",
    "        })\n",
    "        \n",
    "        # Display the fitted model results\n",
    "        display(model_fit)\n"
   ]
  }
 ],
 "metadata": {
  "kernelspec": {
   "display_name": "Python (pymer4)",
   "language": "python",
   "name": "pymer4"
  },
  "language_info": {
   "codemirror_mode": {
    "name": "ipython",
    "version": 3
   },
   "file_extension": ".py",
   "mimetype": "text/x-python",
   "name": "python",
   "nbconvert_exporter": "python",
   "pygments_lexer": "ipython3",
   "version": "3.12.7"
  }
 },
 "nbformat": 4,
 "nbformat_minor": 5
}
